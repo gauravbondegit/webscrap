{
  "nbformat": 4,
  "nbformat_minor": 0,
  "metadata": {
    "colab": {
      "provenance": []
    },
    "kernelspec": {
      "name": "python3",
      "display_name": "Python 3"
    },
    "language_info": {
      "name": "python"
    }
  },
  "cells": [
    {
      "cell_type": "code",
      "source": [
        "import requests\n",
        "from bs4 import BeautifulSoup\n",
        "import pandas as pd\n"
      ],
      "metadata": {
        "id": "VSIHHnylds67"
      },
      "execution_count": 29,
      "outputs": []
    },
    {
      "cell_type": "code",
      "source": [
        "def scrape_loan_service_providers(city):\n",
        "  url = f'https://www.indianyellowpages.com/'+city+'/loan-service-providers.htm'\n",
        "  headers = {\n",
        "          'User-Agent': 'Mozilla/5.0 (Windows NT 10.0; Win64; x64) AppleWebKit/537.36 (KHTML, like Gecko) Chrome/58.0.3029.110 Safari/537.36'\n",
        "  }\n",
        "  response = requests.get(url, headers=headers)\n",
        "  soup = BeautifulSoup(response.content, 'html.parser')\n",
        "  return response , soup\n"
      ],
      "metadata": {
        "id": "TD8dxuuEdm9O"
      },
      "execution_count": 30,
      "outputs": []
    },
    {
      "cell_type": "code",
      "source": [
        "def extract_data(response,soup):\n",
        "  data = soup.find_all('div', attrs={'class': 'serv_com_sec'})\n",
        "\n",
        "  if response.status_code == 200:\n",
        "      soup = BeautifulSoup(response.text, \"html.parser\")\n",
        "\n",
        "      # Find all company sections\n",
        "      company_sections = soup.find_all(\"div\", class_=\"serv_com_sec\")\n",
        "      data = []\n",
        "      for section in company_sections:\n",
        "          link = section.find(\"a\")[\"href\"] if section.find(\"a\") else \"N/A\"\n",
        "          title = section.find(\"div\", class_=\"_c_name\").text.strip() if section.find(\"div\", class_=\"_c_name\") else \"N/A\"\n",
        "          address = section.find(\"div\", class_=\"_loc\").text.strip() if section.find(\"div\", class_=\"_loc\") else \"N/A\"\n",
        "          rating = section.find(\"span\", class_=\"r-count-box\").text.strip() if section.find(\"span\", class_=\"r-count-box\") else \"N/A\"\n",
        "\n",
        "          # print(f\"Title: {title}\")\n",
        "          # print(f\"Link: {link}\")\n",
        "          # print(f\"Address: {address}\")\n",
        "          # print(f\"Rating: {rating}\")\n",
        "          # print(\"-\" * 50)\n",
        "          data.append([title, link, address, rating])\n",
        "      df = pd.DataFrame(data, columns=[\"Title\", \"Link\", \"Address\", \"Rating\"])\n",
        "      df.to_excel(\"loan_service_providers_\"+city+\".xlsx\", index=False)\n",
        "      print(\"Data saved to loan_service_providers_\"+city+\".xlsx\")\n",
        "  else:\n",
        "      print(f\"Failed to fetch data. Status Code: {response.status_code}\")\n",
        "\n"
      ],
      "metadata": {
        "id": "i3FOVOIgdrcU"
      },
      "execution_count": 31,
      "outputs": []
    },
    {
      "cell_type": "code",
      "source": [
        "city = input(\"Enter the city name: \")\n",
        "response , soup = scrape_loan_service_providers(city)\n",
        "extract_data(response,soup)"
      ],
      "metadata": {
        "colab": {
          "base_uri": "https://localhost:8080/"
        },
        "id": "aYaIPZyLifwc",
        "outputId": "2435c94f-f9f7-4be1-8767-ac43503e12e9"
      },
      "execution_count": 32,
      "outputs": [
        {
          "output_type": "stream",
          "name": "stdout",
          "text": [
            "Enter the city name: jaipur\n",
            "Data saved to loan_service_providers_jaipur.xlsx\n"
          ]
        }
      ]
    },
    {
      "cell_type": "code",
      "source": [],
      "metadata": {
        "id": "79sPP7ktjzeZ"
      },
      "execution_count": 28,
      "outputs": []
    }
  ]
}